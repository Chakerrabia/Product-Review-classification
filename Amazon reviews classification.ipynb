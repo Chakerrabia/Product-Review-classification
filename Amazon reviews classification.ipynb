{
 "cells": [
  {
   "cell_type": "markdown",
   "metadata": {},
   "source": [
    "# Product Review classification"
   ]
  },
  {
   "cell_type": "markdown",
   "metadata": {},
   "source": [
    "#### Creating a model capable of classifying reviews into positive and negative ones, Effectively judging a product and giving proper feedback about its reception "
   ]
  },
  {
   "cell_type": "code",
   "execution_count": 11,
   "metadata": {},
   "outputs": [],
   "source": [
    "# importing necessary modules and libraries\n",
    "import json \n",
    "import pandas as pd\n",
    "from sklearn.feature_extraction.text import CountVectorizer"
   ]
  },
  {
   "cell_type": "code",
   "execution_count": 12,
   "metadata": {},
   "outputs": [],
   "source": [
    "# defining a class to easily store our reviews, acess and manipulate them \n",
    "class Reviews :\n",
    "    def __init__(self,text, score) :\n",
    "            self.text = text\n",
    "            self.score= score\n",
    "            self.sentiment= self.get_sentiment()\n",
    "    def get_sentiment(self):\n",
    "        if self.score > 3 :\n",
    "            self.sentiment= \"POSITIVE\"\n",
    "        elif self.score < 2:\n",
    "            self.sentiment= \"NEGATIVE\"\n",
    "        else :\n",
    "            self.sentiment = \"NEUTRAL\"\n"
   ]
  },
  {
   "cell_type": "code",
   "execution_count": 13,
   "metadata": {},
   "outputs": [
    {
     "data": {
      "text/plain": [
       "<__main__.Reviews at 0x7f11ea692710>"
      ]
     },
     "execution_count": 13,
     "metadata": {},
     "output_type": "execute_result"
    }
   ],
   "source": [
    "# Data download link \"http://snap.stanford.edu/data/amazon/productGraph/categoryFiles/reviews_Video_Games_5.json.gz\"\n",
    "file = \"reviews_Video_Games_5.json\"\n",
    "reviews = []\n",
    "# using json.loads will get us the data in forms of dictionnaries (easier to index), we then create instaces of Reviews() and store thos in a list \n",
    "with open(file) as f:\n",
    "    for line in f:\n",
    "            review=json.loads(line)\n",
    "            reviews.append(Reviews(review['reviewText'],review['overall']))"
   ]
  },
  {
   "cell_type": "markdown",
   "metadata": {},
   "source": [
    "### Porcessing data "
   ]
  },
  {
   "cell_type": "markdown",
   "metadata": {},
   "source": [
    "#### The necesary data we extracted from the jason file and loaded into the list is in the form of a text review and a numerical raiting. To classify the data and run our sentiment analysis, we need to break down the text reviews into bags of words and standardize the length without losing data or adding unnecessary ones(using feature hashing) , since classification algorithms require a standard feature length. "
   ]
  },
  {
   "cell_type": "code",
   "execution_count": 45,
   "metadata": {},
   "outputs": [],
   "source": [
    "# previous analysis showed the existance of empty stings in the reviews, so we remove them before processing into BOWs \n",
    "for r in reviews :\n",
    "    if r.text == '':\n",
    "        reviews.remove(r)"
   ]
  },
  {
   "cell_type": "code",
   "execution_count": 47,
   "metadata": {},
   "outputs": [
    {
     "name": "stdout",
     "output_type": "stream",
     "text": [
      "Reviews Transformed into bags of words\n"
     ]
    }
   ],
   "source": [
    "reviews_bow= []\n",
    "input_vectorizer = CountVectorizer()\n",
    "c=0\n",
    "for r in reviews :\n",
    "    input=[r.text]\n",
    "    input_vectorizer.fit(input)\n",
    "    input_vectorizer.transform(input)\n",
    "    reviews_bow.append(input_vectorizer.vocabulary_)\n",
    "print(\"Reviews Transformed into bags of words\")"
   ]
  },
  {
   "cell_type": "code",
   "execution_count": null,
   "metadata": {},
   "outputs": [],
   "source": []
  }
 ],
 "metadata": {
  "kernelspec": {
   "display_name": "Python 3",
   "language": "python",
   "name": "python3"
  },
  "language_info": {
   "codemirror_mode": {
    "name": "ipython",
    "version": 3
   },
   "file_extension": ".py",
   "mimetype": "text/x-python",
   "name": "python",
   "nbconvert_exporter": "python",
   "pygments_lexer": "ipython3",
   "version": "3.7.4"
  }
 },
 "nbformat": 4,
 "nbformat_minor": 4
}
